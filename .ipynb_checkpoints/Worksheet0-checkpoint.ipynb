{
 "cells": [
  {
   "cell_type": "markdown",
   "id": "c5b301ab-1e30-42af-9008-42d09d44bb26",
   "metadata": {},
   "source": [
    "Exercise on Functions\n",
    "Task-1 "
   ]
  },
  {
   "cell_type": "code",
   "execution_count": 1,
   "id": "0ee06158-3579-4202-9bce-5a0fac2934e1",
   "metadata": {},
   "outputs": [
    {
     "name": "stdout",
     "output_type": "stream",
     "text": [
      "Unit Converter: Length, Weight, and Volume\n",
      "1. Length (Meters to Feet and Feet to Meters)\n",
      "2. Weight (Kilograms to Pounds and Pounds to Kilograms)\n",
      "3. Volume (Liters to Gallons and Gallons to Liters)\n"
     ]
    },
    {
     "name": "stdin",
     "output_type": "stream",
     "text": [
      "Choose conversion type (1-3):  2\n",
      "Convert from kilograms (kg) or pounds (lbs):  kg\n",
      "Enter the value to convert:  50.9\n"
     ]
    },
    {
     "name": "stdout",
     "output_type": "stream",
     "text": [
      "50.9 kilograms is 112.22 pounds\n"
     ]
    }
   ],
   "source": [
    "def meters_to_feet(meters):\n",
    "    \"\"\"Convert meters to feet.\"\"\"\n",
    "    return meters * 3.28084\n",
    "\n",
    "def feet_to_meters(feet):\n",
    "    \"\"\"Convert feet to meters.\"\"\"\n",
    "    return feet / 3.28084\n",
    "\n",
    "def kilograms_to_pounds(kg):\n",
    "    \"\"\"Convert kilograms to pounds.\"\"\"\n",
    "    return kg * 2.20462\n",
    "\n",
    "def pounds_to_kilograms(lbs):\n",
    "    \"\"\"Convert pounds to kilograms.\"\"\"\n",
    "    return lbs / 2.20462\n",
    "\n",
    "def liters_to_gallons(liters):\n",
    "    \"\"\"Convert liters to gallons.\"\"\"\n",
    "    return liters * 0.264172\n",
    "\n",
    "def gallons_to_liters(gallons):\n",
    "    \"\"\"Convert gallons to liters.\"\"\"\n",
    "    return gallons / 0.264172\n",
    "\n",
    "def main():\n",
    "    \"\"\"Main function to handle user input and perform conversions.\"\"\"\n",
    "    print(\"Unit Converter: Length, Weight, and Volume\")\n",
    "    print(\"1. Length (Meters to Feet and Feet to Meters)\")\n",
    "    print(\"2. Weight (Kilograms to Pounds and Pounds to Kilograms)\")\n",
    "    print(\"3. Volume (Liters to Gallons and Gallons to Liters)\")\n",
    "    \n",
    "    try:\n",
    "        choice = int(input(\"Choose conversion type (1-3): \"))\n",
    "        if choice == 1:\n",
    "            unit = input(\"Convert from meters (m) or feet (ft): \").strip().lower()\n",
    "            value = float(input(\"Enter the value to convert: \"))\n",
    "            if unit == \"m\":\n",
    "                print(f\"{value} meters is {meters_to_feet(value):.2f} feet\")\n",
    "            elif unit == \"ft\":\n",
    "                print(f\"{value} feet is {feet_to_meters(value):.2f} meters\")\n",
    "            else:\n",
    "                print(\"Invalid unit for length conversion.\")\n",
    "        elif choice == 2:\n",
    "            unit = input(\"Convert from kilograms (kg) or pounds (lbs): \").strip().lower()\n",
    "            value = float(input(\"Enter the value to convert: \"))\n",
    "            if unit == \"kg\":\n",
    "                print(f\"{value} kilograms is {kilograms_to_pounds(value):.2f} pounds\")\n",
    "            elif unit == \"lbs\":\n",
    "                print(f\"{value} pounds is {pounds_to_kilograms(value):.2f} kilograms\")\n",
    "            else:\n",
    "                print(\"Invalid unit for weight conversion.\")\n",
    "        elif choice == 3:\n",
    "            unit = input(\"Convert from liters (L) or gallons (gal): \").strip().lower()\n",
    "            value = float(input(\"Enter the value to convert: \"))\n",
    "            if unit == \"l\":\n",
    "                print(f\"{value} liters is {liters_to_gallons(value):.2f} gallons\")\n",
    "            elif unit == \"gal\":\n",
    "                print(f\"{value} gallons is {gallons_to_liters(value):.2f} liters\")\n",
    "            else:\n",
    "                print(\"Invalid unit for volume conversion.\")\n",
    "        else:\n",
    "            print(\"Invalid choice. Please select a valid option (1-3).\")\n",
    "    except ValueError:\n",
    "        print(\"Invalid input. Please enter a numerical value.\")\n",
    "\n",
    "if __name__ == \"__main__\":\n",
    "    main()\n"
   ]
  },
  {
   "cell_type": "markdown",
   "id": "25fb9022-21af-4eff-89a2-bd4813919daa",
   "metadata": {},
   "source": [
    "Task 2"
   ]
  },
  {
   "cell_type": "code",
   "execution_count": 2,
   "id": "1a609a8f-a6a7-4304-9972-236331f9b9dd",
   "metadata": {},
   "outputs": [
    {
     "name": "stdout",
     "output_type": "stream",
     "text": [
      "Select an operation:\n",
      "1. Sum\n",
      "2. Average\n",
      "3. Maximum\n",
      "4. Minimum\n"
     ]
    },
    {
     "name": "stdin",
     "output_type": "stream",
     "text": [
      "Enter the number of your choice:  2\n",
      "Enter a list of numbers separated by spaces:  1 2 3 4 5\n"
     ]
    },
    {
     "name": "stdout",
     "output_type": "stream",
     "text": [
      "The average of the numbers is: 3.0\n"
     ]
    }
   ],
   "source": [
    "def calculate_sum(numbers):\n",
    "    \"\"\"Returns the sum of a list of numbers.\"\"\"\n",
    "    return sum(numbers)\n",
    "\n",
    "def calculate_average(numbers):\n",
    "    \"\"\"Returns the average of a list of numbers.\"\"\"\n",
    "    return sum(numbers) / len(numbers) if numbers else 0\n",
    "\n",
    "def find_maximum(numbers):\n",
    "    \"\"\"Returns the maximum value from a list of numbers.\"\"\"\n",
    "    return max(numbers)\n",
    "\n",
    "def find_minimum(numbers):\n",
    "    \"\"\"Returns the minimum value from a list of numbers.\"\"\"\n",
    "    return min(numbers)\n",
    "\n",
    "def main():\n",
    "    \"\"\"Main function to execute the program.\"\"\"\n",
    "    operations = {\n",
    "        '1': ('Sum', calculate_sum),\n",
    "        '2': ('Average', calculate_average),\n",
    "        '3': ('Maximum', find_maximum),\n",
    "        '4': ('Minimum', find_minimum)\n",
    "    }\n",
    "    \n",
    "    print(\"Select an operation:\")\n",
    "    for key, value in operations.items():\n",
    "        print(f\"{key}. {value[0]}\")\n",
    "    \n",
    "    choice = input(\"Enter the number of your choice: \")\n",
    "    \n",
    "    if choice not in operations:\n",
    "        print(\"Invalid choice. Please select a valid option.\")\n",
    "        return\n",
    "    \n",
    "    try:\n",
    "        numbers = list(map(float, input(\"Enter a list of numbers separated by spaces: \").split()))\n",
    "        if not numbers:\n",
    "            raise ValueError(\"The list cannot be empty.\")\n",
    "        \n",
    "        operation_name, operation_func = operations[choice]\n",
    "        result = operation_func(numbers)\n",
    "        print(f\"The {operation_name.lower()} of the numbers is: {result}\")\n",
    "    \n",
    "    except ValueError as e:\n",
    "        print(f\"Error: {e}. Please enter valid numeric values.\")\n",
    "    \n",
    "if __name__ == \"__main__\":\n",
    "    main()\n"
   ]
  },
  {
   "cell_type": "markdown",
   "id": "cc860bd6-c8b7-4ec4-b624-b3d23decfcdb",
   "metadata": {},
   "source": [
    "4.2 Exercise on List Manipulation\n",
    "1. Extract Every Other Element"
   ]
  },
  {
   "cell_type": "code",
   "execution_count": 3,
   "id": "a95b7f26-9b61-43b2-8f75-53b4e067f0c0",
   "metadata": {},
   "outputs": [
    {
     "name": "stdin",
     "output_type": "stream",
     "text": [
      "Enter a list of numbers separated by spaces:  1 2 3 4 5\n"
     ]
    },
    {
     "name": "stdout",
     "output_type": "stream",
     "text": [
      "Every other element: [1, 3, 5]\n"
     ]
    }
   ],
   "source": [
    "def extract_every_other(lst):\n",
    "    \"\"\"Returns a new list containing every other element from the original list.\"\"\"\n",
    "    return lst[::2]\n",
    "\n",
    "# Example usage\n",
    "if __name__ == \"__main__\":\n",
    "    user_input = input(\"Enter a list of numbers separated by spaces: \")\n",
    "    try:\n",
    "        numbers = list(map(int, user_input.split()))\n",
    "        print(\"Every other element:\", extract_every_other(numbers))\n",
    "    except ValueError:\n",
    "        print(\"Invalid input. Please enter numeric values only.\")\n"
   ]
  },
  {
   "cell_type": "markdown",
   "id": "7fd29628-c85e-4cd7-a3ee-d9354806e3a2",
   "metadata": {},
   "source": [
    "2. Slice a Sublist"
   ]
  },
  {
   "cell_type": "code",
   "execution_count": 4,
   "id": "bc85cfaf-950f-4616-afbd-fe1e4c15760d",
   "metadata": {},
   "outputs": [
    {
     "name": "stdin",
     "output_type": "stream",
     "text": [
      "Enter a list of numbers separated by spaces:  1 2 3 4 5 \n"
     ]
    },
    {
     "name": "stdout",
     "output_type": "stream",
     "text": [
      "Every other element: [1, 3, 5]\n",
      "Reversed list: [5, 4, 3, 2, 1]\n"
     ]
    },
    {
     "name": "stdin",
     "output_type": "stream",
     "text": [
      "Enter the starting index:  2\n",
      "Enter the ending index:  4\n"
     ]
    },
    {
     "name": "stdout",
     "output_type": "stream",
     "text": [
      "Sublist: [3, 4, 5]\n"
     ]
    }
   ],
   "source": [
    "def extract_every_other(lst):\n",
    "    \"\"\"Returns a new list containing every other element from the original list.\"\"\"\n",
    "    return lst[::2]\n",
    "\n",
    "def reverse_list(lst):\n",
    "    \"\"\"Returns a reversed list using slicing.\"\"\"\n",
    "    return lst[::-1]\n",
    "\n",
    "def get_sublist(lst, start, end):\n",
    "    \"\"\"Returns a sublist from start to end (inclusive).\"\"\"\n",
    "    return lst[start:end+1]\n",
    "\n",
    "# Example usage\n",
    "if __name__ == \"__main__\":\n",
    "    user_input = input(\"Enter a list of numbers separated by spaces: \")\n",
    "    try:\n",
    "        numbers = list(map(int, user_input.split()))\n",
    "        print(\"Every other element:\", extract_every_other(numbers))\n",
    "        print(\"Reversed list:\", reverse_list(numbers))\n",
    "        \n",
    "        start = int(input(\"Enter the starting index: \"))\n",
    "        end = int(input(\"Enter the ending index: \"))\n",
    "        print(\"Sublist:\", get_sublist(numbers, start, end))\n",
    "    except ValueError:\n",
    "        print(\"Invalid input. Please enter numeric values only.\")\n"
   ]
  },
  {
   "cell_type": "markdown",
   "id": "dd6edcad-2a35-4879-9168-f0c0b2c783b2",
   "metadata": {},
   "source": [
    "3. Reverse a List Using Slicing"
   ]
  },
  {
   "cell_type": "code",
   "execution_count": 5,
   "id": "23bc81e4-5166-40df-b512-98349b792fba",
   "metadata": {},
   "outputs": [
    {
     "name": "stdin",
     "output_type": "stream",
     "text": [
      "Enter a list of numbers separated by spaces:  1 2 3 4 5\n"
     ]
    },
    {
     "name": "stdout",
     "output_type": "stream",
     "text": [
      "Reversed list: [5, 4, 3, 2, 1]\n"
     ]
    }
   ],
   "source": [
    "def reverse_list(lst):\n",
    "    \"\"\"Returns a reversed list using slicing.\"\"\"\n",
    "    return lst[::-1]\n",
    "\n",
    "# Example usage\n",
    "if __name__ == \"__main__\":\n",
    "    user_input = input(\"Enter a list of numbers separated by spaces: \")\n",
    "    try:\n",
    "        numbers = list(map(int, user_input.split()))\n",
    "        print(\"Reversed list:\", reverse_list(numbers))\n",
    "    except ValueError:\n",
    "        print(\"Invalid input. Please enter numeric values only.\")\n"
   ]
  },
  {
   "cell_type": "markdown",
   "id": "4cd3e383-71d6-4711-bf31-c1af8200b02a",
   "metadata": {},
   "source": [
    "4. Remove the First and Last Elements"
   ]
  },
  {
   "cell_type": "code",
   "execution_count": 6,
   "id": "2fb805f1-b373-455a-89b5-807fefb7d4c6",
   "metadata": {},
   "outputs": [
    {
     "name": "stdin",
     "output_type": "stream",
     "text": [
      "Enter a list of numbers separated by spaces:  1 2 3 4 5 6\n"
     ]
    },
    {
     "name": "stdout",
     "output_type": "stream",
     "text": [
      "Sublist without first and last elements: [2, 3, 4, 5]\n"
     ]
    }
   ],
   "source": [
    "def remove_first_last(lst):\n",
    "    \"\"\"Returns a sublist without the first and last elements using slicing.\"\"\"\n",
    "    return lst[1:-1]\n",
    "\n",
    "# Example usage\n",
    "if __name__ == \"__main__\":\n",
    "    user_input = input(\"Enter a list of numbers separated by spaces: \")\n",
    "    try:\n",
    "        numbers = list(map(int, user_input.split()))\n",
    "        print(\"Sublist without first and last elements:\", remove_first_last(numbers))\n",
    "    except ValueError:\n",
    "        print(\"Invalid input. Please enter numeric values only.\")\n"
   ]
  },
  {
   "cell_type": "markdown",
   "id": "65fdad53-0ddc-425b-a82f-7cdaa310841e",
   "metadata": {},
   "source": [
    "5. Get the First n Elements"
   ]
  },
  {
   "cell_type": "code",
   "execution_count": 7,
   "id": "dfcbea30-5831-4541-89ba-232c6a264e19",
   "metadata": {},
   "outputs": [
    {
     "name": "stdin",
     "output_type": "stream",
     "text": [
      "Enter a list of numbers separated by spaces:  1 2 3 4 5 \n",
      "Enter the number of first elements to extract:  3\n"
     ]
    },
    {
     "name": "stdout",
     "output_type": "stream",
     "text": [
      "First n elements: [1, 2, 3]\n"
     ]
    }
   ],
   "source": [
    "def get_first_n(lst, n):\n",
    "    \"\"\"Returns the first n elements of the list using slicing.\"\"\"\n",
    "    return lst[:n]\n",
    "\n",
    "# Example usage\n",
    "if __name__ == \"__main__\":\n",
    "    user_input = input(\"Enter a list of numbers separated by spaces: \")\n",
    "    try:\n",
    "        numbers = list(map(int, user_input.split()))\n",
    "        \n",
    "        n = int(input(\"Enter the number of first elements to extract: \"))\n",
    "        print(\"First n elements:\", get_first_n(numbers, n))\n",
    "    except ValueError:\n",
    "        print(\"Invalid input. Please enter numeric values only.\")"
   ]
  },
  {
   "cell_type": "markdown",
   "id": "a7d08922-99d6-4a7d-8cec-0cc6601fdda3",
   "metadata": {},
   "source": [
    "6. Extract Elements from the End"
   ]
  },
  {
   "cell_type": "code",
   "execution_count": 9,
   "id": "49febab3-b109-47d2-9e03-0f685aafc099",
   "metadata": {},
   "outputs": [
    {
     "name": "stdin",
     "output_type": "stream",
     "text": [
      "Enter a list of elements (comma-separated):  1, 2, 3, 4, 5\n",
      "Enter the number of elements to extract from the end:  3\n"
     ]
    },
    {
     "name": "stdout",
     "output_type": "stream",
     "text": [
      "The last 3 elements are: [3, 4, 5]\n"
     ]
    }
   ],
   "source": [
    "def get_last_n(lst, n):\n",
    "    return lst[-n:]\n",
    "\n",
    "# Ask user for input\n",
    "user_input = input(\"Enter a list of elements (comma-separated): \")\n",
    "lst = [int(x) for x in user_input.split(\",\")]\n",
    "\n",
    "n = int(input(\"Enter the number of elements to extract from the end: \"))\n",
    "\n",
    "result = get_last_n(lst, n)\n",
    "print(f\"The last {n} elements are: {result}\")\n"
   ]
  },
  {
   "cell_type": "markdown",
   "id": "879a0ec0-ea71-4a3c-a910-8ad268600ce6",
   "metadata": {},
   "source": [
    "Extract Elements in Reverse Order"
   ]
  },
  {
   "cell_type": "code",
   "execution_count": 75,
   "id": "eb717944-d232-4a38-8559-53697bb00d90",
   "metadata": {},
   "outputs": [
    {
     "name": "stdin",
     "output_type": "stream",
     "text": [
      "Enter a list of elements (comma-separated):   1, 2, 3, 4, 5, 6\n"
     ]
    },
    {
     "name": "stdout",
     "output_type": "stream",
     "text": [
      "The list of elements in reverse order, skipping one element in between: [5, 3, 1]\n"
     ]
    }
   ],
   "source": [
    "def reverse_skip(lst):\n",
    "    return lst[-2::-2]\n",
    "\n",
    "# Ask user for input\n",
    "user_input = input(\"Enter a list of elements (comma-separated): \")\n",
    "lst = [int(x) for x in user_input.split(\",\")]\n",
    "\n",
    "result = reverse_skip(lst)\n",
    "print(f\"The list of elements in reverse order, skipping one element in between: {result}\")\n"
   ]
  },
  {
   "cell_type": "markdown",
   "id": "75ef1e3c-2b66-4b53-a997-b170bf006dcc",
   "metadata": {},
   "source": [
    "4.3 Exercise on Nested List\n",
    "1. Flatten a Nested List"
   ]
  },
  {
   "cell_type": "code",
   "execution_count": 11,
   "id": "7f5a47f4-d73a-48e9-b6f3-7521dda6e534",
   "metadata": {},
   "outputs": [
    {
     "name": "stdin",
     "output_type": "stream",
     "text": [
      "Enter a nested list:   [[1, 2], [3, 4], [5]]\n"
     ]
    },
    {
     "name": "stdout",
     "output_type": "stream",
     "text": [
      "The flattened list is: [1, 2, 3, 4, 5]\n"
     ]
    }
   ],
   "source": [
    "def flatten(lst):\n",
    "    flattened_list = []\n",
    "    for sublist in lst:\n",
    "        flattened_list.extend(sublist)\n",
    "    return flattened_list\n",
    "\n",
    "# Ask user for input\n",
    "user_input = input(\"Enter a nested list: \")\n",
    "\n",
    "# Convert the input string to an actual list using eval (ensure input is properly formatted)\n",
    "nested_lst = eval(user_input)\n",
    "\n",
    "# Call the flatten function\n",
    "result = flatten(nested_lst)\n",
    "print(f\"The flattened list is: {result}\")\n"
   ]
  },
  {
   "cell_type": "markdown",
   "id": "f14d0c00-3165-4490-a6df-0e838d635c1a",
   "metadata": {},
   "source": [
    "2. Accessing Nested List Elements"
   ]
  },
  {
   "cell_type": "code",
   "execution_count": 16,
   "id": "05c76681-3454-4959-b7b8-aa28ac2994b7",
   "metadata": {},
   "outputs": [
    {
     "name": "stdin",
     "output_type": "stream",
     "text": [
      "Enter a nested list:  [[1, 2, 3], [4, 5, 6], [7, 8, 9]]\n",
      "Enter a list of indices:   [1, 2]\n"
     ]
    },
    {
     "name": "stdout",
     "output_type": "stream",
     "text": [
      "The element at the specified position is: 6\n"
     ]
    }
   ],
   "source": [
    "def access_nested_element(lst, indices):\n",
    "    element = lst\n",
    "    for index in indices:\n",
    "        element = element[index]  # Navigate through the nested list using indices\n",
    "    return element\n",
    "\n",
    "# Ask the user for a nested list\n",
    "nested_list_input = input(\"Enter a nested list: \")\n",
    "\n",
    "# Convert the input string into an actual list\n",
    "nested_list = eval(nested_list_input)\n",
    "\n",
    "# Ask the user for a list of indices\n",
    "indices_input = input(\"Enter a list of indices: \")\n",
    "\n",
    "# Convert the input string into a list of indices\n",
    "indices = eval(indices_input)\n",
    "\n",
    "# Get the element using the provided indices\n",
    "element = access_nested_element(nested_list, indices)\n",
    "\n",
    "print(\"The element at the specified position is:\", element)\n"
   ]
  },
  {
   "cell_type": "markdown",
   "id": "7cc3b25f-56d9-48b0-a66b-b80f521f1976",
   "metadata": {},
   "source": [
    "3. Sum of All Elements in a Nested List"
   ]
  },
  {
   "cell_type": "code",
   "execution_count": 19,
   "id": "2261ed28-4454-4e66-9986-4ac55757ad34",
   "metadata": {},
   "outputs": [
    {
     "name": "stdin",
     "output_type": "stream",
     "text": [
      "Enter a nested list:   [[1, 2], [3, 2], [4, 5]]\n"
     ]
    },
    {
     "name": "stdout",
     "output_type": "stream",
     "text": [
      "The sum of all elements is: 17\n"
     ]
    }
   ],
   "source": [
    "def sum_nested(lst):\n",
    "    total = 0\n",
    "    for element in lst:\n",
    "        if isinstance(element, list):  # Check if the element is a list\n",
    "            total += sum_nested(element)  # Recursively sum the nested list\n",
    "        else:\n",
    "            total += element  # Add the element to the total if it's not a list\n",
    "    return total\n",
    "\n",
    "# Ask the user for input\n",
    "input_string = input(\"Enter a nested list: \")\n",
    "try:\n",
    "    # Convert the input string into a Python list using eval()\n",
    "    nested_list = eval(input_string)\n",
    "    # Ensure the input is a list\n",
    "    if isinstance(nested_list, list):\n",
    "        print(\"The sum of all elements is:\", sum_nested(nested_list))\n",
    "    else:\n",
    "        print(\"Please enter a valid nested list.\")\n",
    "except (SyntaxError, NameError):\n",
    "    print(\"Invalid input! Please enter a valid nested list.\")\n"
   ]
  },
  {
   "cell_type": "markdown",
   "id": "425e9f74-af9e-4842-95b3-c008c7ac9da5",
   "metadata": {},
   "source": [
    "4. Remove Specific Element from a Nested List"
   ]
  },
  {
   "cell_type": "code",
   "execution_count": 24,
   "id": "3a0483f2-f099-4410-b897-c7a3b5bc5a94",
   "metadata": {},
   "outputs": [
    {
     "name": "stdin",
     "output_type": "stream",
     "text": [
      "Enter a nested list:   [1, 2, [3, 4], 5]\n",
      "Enter the element to remove:  2\n"
     ]
    },
    {
     "name": "stdout",
     "output_type": "stream",
     "text": [
      "Modified list: [1, [3, 4], 5]\n"
     ]
    }
   ],
   "source": [
    "def remove_element(lst, elem):\n",
    "    # Create a new list to store the result\n",
    "    result = []\n",
    "    \n",
    "    # Iterate over each element in the list\n",
    "    for element in lst:\n",
    "        if isinstance(element, list):  # If the element is a list, recurse into it\n",
    "            result.append(remove_element(element, elem))\n",
    "        elif element != elem:  # If the element is not the one to remove, add it to the result\n",
    "            result.append(element)\n",
    "    \n",
    "    return result\n",
    "\n",
    "# Ask the user for input\n",
    "input_string = input(\"Enter a nested list: \")\n",
    "\n",
    "try:\n",
    "    # Convert the input string into a Python list safely using eval()\n",
    "    nested_list = eval(input_string)\n",
    "\n",
    "    # Ensure the input is a list\n",
    "    if isinstance(nested_list, list):\n",
    "        elem_to_remove = input(\"Enter the element to remove: \")\n",
    "        \n",
    "        # Attempt to convert the element to remove to the same type as the first element in the list\n",
    "        try:\n",
    "            elem_to_remove = type(nested_list[0])(elem_to_remove)\n",
    "        except:\n",
    "            pass  # If there's a type conversion error, keep elem_to_remove as it is\n",
    "\n",
    "        # Call the function to remove the element and print the result\n",
    "        modified_list = remove_element(nested_list, elem_to_remove)\n",
    "        print(\"Modified list:\", modified_list)\n",
    "    else:\n",
    "        print(\"Please enter a valid nested list.\")\n",
    "except (SyntaxError, ValueError):\n",
    "    print(\"Invalid input! Please enter a valid nested list.\")\n"
   ]
  },
  {
   "cell_type": "markdown",
   "id": "7ba33b14-a348-48c7-bfd9-2b46af3cc582",
   "metadata": {},
   "source": [
    "5. Find the Maximum Element in a Nested List"
   ]
  },
  {
   "cell_type": "code",
   "execution_count": 22,
   "id": "0babe41e-fdd0-414f-84c6-50e06be4c5ba",
   "metadata": {},
   "outputs": [
    {
     "name": "stdin",
     "output_type": "stream",
     "text": [
      "Enter a nested list:   [[1, 2], [3, [4, 5]], 6]\n"
     ]
    },
    {
     "name": "stdout",
     "output_type": "stream",
     "text": [
      "The maximum element is: 6\n"
     ]
    }
   ],
   "source": [
    "def find_max(lst):\n",
    "    max_element = float('-inf')  # Initialize to negative infinity to ensure any number will be larger\n",
    "\n",
    "    for element in lst:\n",
    "        if isinstance(element, list):  # If the element is a list, recurse into it\n",
    "            max_element = max(max_element, find_max(element))\n",
    "        else:\n",
    "            max_element = max(max_element, element)  # Compare with the current maximum\n",
    "\n",
    "    return max_element\n",
    "\n",
    "# Ask the user for input\n",
    "input_string = input(\"Enter a nested list: \")\n",
    "\n",
    "try:\n",
    "    # Convert the input string into a Python list using eval()\n",
    "    nested_list = eval(input_string)\n",
    "    # Ensure the input is a list\n",
    "    if isinstance(nested_list, list):\n",
    "        print(\"The maximum element is:\", find_max(nested_list))\n",
    "    else:\n",
    "        print(\"Please enter a valid nested list.\")\n",
    "except (SyntaxError, NameError):\n",
    "    print(\"Invalid input! Please enter a valid nested list.\")\n"
   ]
  },
  {
   "cell_type": "markdown",
   "id": "11492f6a-a443-4cc3-a84b-79607ec97a47",
   "metadata": {},
   "source": [
    "6. Count Occurrences of an Element in a Nested List"
   ]
  },
  {
   "cell_type": "code",
   "execution_count": 76,
   "id": "06c6f5ae-125d-458f-92ae-80b676410cc5",
   "metadata": {},
   "outputs": [
    {
     "name": "stdin",
     "output_type": "stream",
     "text": [
      "Enter a nested list:   [[1, 2], [2, 3], [2, 4]]\n",
      "Enter the element to count:  2\n"
     ]
    },
    {
     "name": "stdout",
     "output_type": "stream",
     "text": [
      "Occurrences of 2 : 3\n"
     ]
    }
   ],
   "source": [
    "def count_occurrences(lst, elem):\n",
    "    count = 0\n",
    "    for item in lst:\n",
    "        if type(item) == list:  # If item is a list, call function again\n",
    "            count += count_occurrences(item, elem)\n",
    "        elif item == elem:  # If item matches elem, increase count\n",
    "            count += 1\n",
    "    return count\n",
    "\n",
    "# Get input from user\n",
    "nested_list = eval(input(\"Enter a nested list: \"))  # Convert input string to list\n",
    "element_to_count = eval(input(\"Enter the element to count: \"))  # Convert input to correct type\n",
    "\n",
    "# Count occurrences and display result\n",
    "print(\"Occurrences of\", element_to_count, \":\", count_occurrences(nested_list, element_to_count))\n"
   ]
  },
  {
   "cell_type": "markdown",
   "id": "1955ec86-a764-4b92-987f-c0f0f274a693",
   "metadata": {},
   "source": [
    "7. Flatten a List of Lists of Lists"
   ]
  },
  {
   "cell_type": "code",
   "execution_count": 32,
   "id": "d952dbfa-47ab-4a8b-87c0-98c189d2a7ac",
   "metadata": {},
   "outputs": [
    {
     "name": "stdin",
     "output_type": "stream",
     "text": [
      "Enter a nested list:   [[[1, 2], [3, 4]], [[5, 6], [7, 8]]]\n"
     ]
    },
    {
     "name": "stdout",
     "output_type": "stream",
     "text": [
      "Flattened list: [1, 2, 3, 4, 5, 6, 7, 8]\n"
     ]
    }
   ],
   "source": [
    "def deep_flatten(lst):\n",
    "    flattened = []\n",
    "    \n",
    "    for element in lst:\n",
    "        if isinstance(element, list):  # If the element is a list, recurse into it\n",
    "            flattened.extend(deep_flatten(element))\n",
    "        else:\n",
    "            flattened.append(element)  # If it's not a list, add it to the flattened list\n",
    "    \n",
    "    return flattened\n",
    "\n",
    "# Ask the user for input\n",
    "input_string = input(\"Enter a nested list: \")\n",
    "\n",
    "try:\n",
    "    # Convert the input string into a Python list using eval()\n",
    "    nested_list = eval(input_string)\n",
    "    # Ensure the input is a list\n",
    "    if isinstance(nested_list, list):\n",
    "        print(\"Flattened list:\", deep_flatten(nested_list))\n",
    "    else:\n",
    "        print(\"Please enter a valid nested list.\")\n",
    "except (SyntaxError, NameError):\n",
    "    print(\"Invalid input! Please enter a valid nested list.\")\n"
   ]
  },
  {
   "cell_type": "markdown",
   "id": "99dfbd02-46d1-49d6-b030-4c7d2141cab7",
   "metadata": {},
   "source": [
    "8. Nested List Average"
   ]
  },
  {
   "cell_type": "code",
   "execution_count": 34,
   "id": "141c92d6-addb-49cf-bab8-94b291ce6d5b",
   "metadata": {},
   "outputs": [
    {
     "name": "stdin",
     "output_type": "stream",
     "text": [
      "Enter a nested list:   [[1, 2], [3, 4], [5, 6]]\n"
     ]
    },
    {
     "name": "stdout",
     "output_type": "stream",
     "text": [
      "The average of all elements is: 3.5\n"
     ]
    }
   ],
   "source": [
    "def average_nested(lst):\n",
    "    # Flatten the nested list first\n",
    "    def deep_flatten(lst):\n",
    "        flattened = []\n",
    "        for element in lst:\n",
    "            if isinstance(element, list):  # If the element is a list, recurse into it\n",
    "                flattened.extend(deep_flatten(element))\n",
    "            else:\n",
    "                flattened.append(element)  # If it's not a list, add it to the flattened list\n",
    "        return flattened\n",
    "    \n",
    "    # Flatten the list\n",
    "    flattened_list = deep_flatten(lst)\n",
    "    \n",
    "    # Calculate the sum and average\n",
    "    total_sum = sum(flattened_list)\n",
    "    count = len(flattened_list)\n",
    "    \n",
    "    # Calculate and return the average\n",
    "    if count == 0:  # Avoid division by zero\n",
    "        return 0\n",
    "    return total_sum / count\n",
    "\n",
    "# Ask the user for input\n",
    "input_string = input(\"Enter a nested list: \")\n",
    "\n",
    "try:\n",
    "    # Convert the input string into a Python list using eval()\n",
    "    nested_list = eval(input_string)\n",
    "    # Ensure the input is a list\n",
    "    if isinstance(nested_list, list):\n",
    "        print(\"The average of all elements is:\", average_nested(nested_list))\n",
    "    else:\n",
    "        print(\"Please enter a valid nested list.\")\n",
    "except (SyntaxError, NameError):\n",
    "    print(\"Invalid input! Please enter a valid nested list.\")\n"
   ]
  },
  {
   "cell_type": "markdown",
   "id": "94df42fb-fb3f-472d-9062-5d7534f1d8aa",
   "metadata": {},
   "source": [
    "To - Do - NumPy\n",
    "Basic Vector and Matrix Operation with Numpy\n",
    "Problem-1: Array Creation\n",
    "1. Initialize an empty array with size 2X2."
   ]
  },
  {
   "cell_type": "code",
   "execution_count": 35,
   "id": "1dfaa3bd-3c8d-4086-b11f-7575a7a53bfa",
   "metadata": {},
   "outputs": [],
   "source": [
    "import numpy as np"
   ]
  },
  {
   "cell_type": "code",
   "execution_count": 36,
   "id": "7370a089-b708-4bea-94d4-4e7857a4348d",
   "metadata": {},
   "outputs": [
    {
     "name": "stdout",
     "output_type": "stream",
     "text": [
      "[[0.00000000e+000 3.56033886e-307]\n",
      " [2.33647355e-307 0.00000000e+000]]\n"
     ]
    }
   ],
   "source": [
    "# Initialize an empty 2x2 array\n",
    "array_2x2_empty = np.empty((2, 2))\n",
    "\n",
    "print(array_2x2_empty)\n"
   ]
  },
  {
   "cell_type": "markdown",
   "id": "9200c46f-bb58-4527-a5a6-9446a3726f39",
   "metadata": {},
   "source": [
    " 2. Initialize an all one array with size 4X2."
   ]
  },
  {
   "cell_type": "code",
   "execution_count": 37,
   "id": "4efa857b-2191-4727-8313-63a0b0960b2c",
   "metadata": {},
   "outputs": [
    {
     "name": "stdout",
     "output_type": "stream",
     "text": [
      "[[1. 1.]\n",
      " [1. 1.]\n",
      " [1. 1.]\n",
      " [1. 1.]]\n"
     ]
    }
   ],
   "source": [
    "# Initialize a 4x2 array with ones\n",
    "array_4x2_ones = np.ones((4, 2))\n",
    "\n",
    "print(array_4x2_ones)"
   ]
  },
  {
   "cell_type": "markdown",
   "id": "972d880f-260a-4b77-b2a2-0d543f0752bf",
   "metadata": {},
   "source": [
    "3. Return a new array of given shape and type, filled with fill value."
   ]
  },
  {
   "cell_type": "code",
   "execution_count": 38,
   "id": "a63d1162-57f4-49ce-85aa-5008fabdd58a",
   "metadata": {},
   "outputs": [
    {
     "name": "stdout",
     "output_type": "stream",
     "text": [
      "[[7 7]\n",
      " [7 7]\n",
      " [7 7]\n",
      " [7 7]]\n"
     ]
    }
   ],
   "source": [
    "array = np.full((4, 2), 7)\n",
    "\n",
    "print(array)"
   ]
  },
  {
   "cell_type": "markdown",
   "id": "f02f56cb-b965-427e-99af-cc2d688869ea",
   "metadata": {},
   "source": [
    "4. Return a new array of zeros with same shape and type as a given array."
   ]
  },
  {
   "cell_type": "code",
   "execution_count": 39,
   "id": "eef8745d-c3eb-4d1f-b3e8-2f928156ac89",
   "metadata": {},
   "outputs": [
    {
     "name": "stdout",
     "output_type": "stream",
     "text": [
      "[[0 0]\n",
      " [0 0]]\n"
     ]
    }
   ],
   "source": [
    "original_array = np.array([[1, 2], [3, 4]])\n",
    "\n",
    "# Create a new array of zeros with the same shape and type as the original array\n",
    "zeros_array = np.zeros_like(original_array)\n",
    "\n",
    "print(zeros_array)"
   ]
  },
  {
   "cell_type": "markdown",
   "id": "efeeb481-0fb2-4a46-9124-23b37c4f90cc",
   "metadata": {},
   "source": [
    "5. Return a new array of ones with same shape and type as a given array."
   ]
  },
  {
   "cell_type": "code",
   "execution_count": 40,
   "id": "2a86c101-79ad-460c-b7d2-676a210a8f5a",
   "metadata": {},
   "outputs": [
    {
     "name": "stdout",
     "output_type": "stream",
     "text": [
      "[[1 1]\n",
      " [1 1]]\n"
     ]
    }
   ],
   "source": [
    "original_array = np.array([[1, 2], [3, 4]])\n",
    "\n",
    "# Create a new array of ones with the same shape and type as the original array\n",
    "ones_array = np.ones_like(original_array)\n",
    "\n",
    "print(ones_array)"
   ]
  },
  {
   "cell_type": "markdown",
   "id": "bc17f780-9993-46d3-878d-7dac77a8e060",
   "metadata": {},
   "source": [
    "6. For an existing list new_list = [1,2,3,4] convert to an numpy array."
   ]
  },
  {
   "cell_type": "code",
   "execution_count": 41,
   "id": "7c4d312b-70b2-4097-8e55-25dad994f291",
   "metadata": {},
   "outputs": [
    {
     "name": "stdout",
     "output_type": "stream",
     "text": [
      "[1 2 3 4]\n"
     ]
    }
   ],
   "source": [
    "new_list = [1, 2, 3, 4]\n",
    "\n",
    "# Convert the list to a NumPy array\n",
    "numpy_array = np.array(new_list)\n",
    "\n",
    "print(numpy_array)"
   ]
  },
  {
   "cell_type": "markdown",
   "id": "73926382-ff7a-4add-b4a4-8e1aeb8c971b",
   "metadata": {},
   "source": [
    "Problem - 2: Array Manipulation: Numerical Ranges and Array indexing\n",
    "1. Create an array with values ranging from 10 to 49."
   ]
  },
  {
   "cell_type": "code",
   "execution_count": 42,
   "id": "f2a8005c-5bae-44ec-a0d0-db530d6bc3e2",
   "metadata": {},
   "outputs": [
    {
     "name": "stdout",
     "output_type": "stream",
     "text": [
      "[10 11 12 13 14 15 16 17 18 19 20 21 22 23 24 25 26 27 28 29 30 31 32 33\n",
      " 34 35 36 37 38 39 40 41 42 43 44 45 46 47 48 49]\n"
     ]
    }
   ],
   "source": [
    "array = np.arange(10, 50)\n",
    "\n",
    "print(array)"
   ]
  },
  {
   "cell_type": "markdown",
   "id": "961fb21e-3bd0-4ec8-adac-f5276d0eab6d",
   "metadata": {},
   "source": [
    "2. Create a 3X3 matrix with values ranging from 0 to 8.\n"
   ]
  },
  {
   "cell_type": "code",
   "execution_count": 43,
   "id": "5b7bad48-eeda-4e84-a92a-9a4d4dc747be",
   "metadata": {},
   "outputs": [
    {
     "name": "stdout",
     "output_type": "stream",
     "text": [
      "[[0 1 2]\n",
      " [3 4 5]\n",
      " [6 7 8]]\n"
     ]
    }
   ],
   "source": [
    "array = np.arange(9)\n",
    "\n",
    "# Reshape the array into a 3x3 matrix\n",
    "matrix_3x3 = array.reshape(3, 3)\n",
    "\n",
    "print(matrix_3x3)"
   ]
  },
  {
   "cell_type": "code",
   "execution_count": null,
   "id": "a1553526-448a-42b9-8122-14990c3ef317",
   "metadata": {},
   "outputs": [],
   "source": [
    "3. Create a 3X3 identity matrix."
   ]
  },
  {
   "cell_type": "code",
   "execution_count": 44,
   "id": "b6954a49-4b93-425f-8fe0-bd5c197df5ea",
   "metadata": {},
   "outputs": [
    {
     "name": "stdout",
     "output_type": "stream",
     "text": [
      "[[1. 0. 0.]\n",
      " [0. 1. 0.]\n",
      " [0. 0. 1.]]\n"
     ]
    }
   ],
   "source": [
    "identity_matrix = np.eye(3)\n",
    "\n",
    "print(identity_matrix)"
   ]
  },
  {
   "cell_type": "markdown",
   "id": "da7c8708-d9f8-4ddd-9762-c3693aa9e59d",
   "metadata": {},
   "source": [
    "4. Create a random array of size 30 and find the mean of the array."
   ]
  },
  {
   "cell_type": "code",
   "execution_count": 45,
   "id": "57c5b310-9b1d-47e0-bce0-33e50d12f5d0",
   "metadata": {},
   "outputs": [
    {
     "name": "stdout",
     "output_type": "stream",
     "text": [
      "Random Array: [0.48886523 0.82947747 0.20408086 0.73473726 0.9963671  0.05638975\n",
      " 0.93893872 0.2236125  0.78748505 0.84055418 0.68756158 0.63097056\n",
      " 0.07963113 0.4156598  0.59350134 0.64419121 0.8836201  0.75379159\n",
      " 0.81458951 0.01045591 0.98616172 0.4703556  0.8269174  0.1686135\n",
      " 0.86313003 0.27911842 0.23236179 0.71260388 0.47699586 0.57525551]\n",
      "Mean of the Array: 0.5735331519562357\n"
     ]
    }
   ],
   "source": [
    "random_array = np.random.random(30)\n",
    "\n",
    "# Calculate the mean of the array\n",
    "mean_value = random_array.mean()\n",
    "\n",
    "print(\"Random Array:\", random_array)\n",
    "print(\"Mean of the Array:\", mean_value)"
   ]
  },
  {
   "cell_type": "markdown",
   "id": "5429042d-2d11-4f73-a1d5-8e83b4a8e011",
   "metadata": {},
   "source": [
    "5. Create a 10X10 array with random values and find the minimum and maximum values."
   ]
  },
  {
   "cell_type": "code",
   "execution_count": 46,
   "id": "4c63de2d-abd7-4beb-8382-5d53a80f6046",
   "metadata": {},
   "outputs": [
    {
     "name": "stdout",
     "output_type": "stream",
     "text": [
      "Random 10x10 Array:\n",
      "[[0.60561666 0.03339841 0.33604438 0.6259504  0.22618899 0.31629268\n",
      "  0.32946618 0.63272694 0.58600525 0.43247992]\n",
      " [0.59681647 0.0964396  0.75943357 0.11913081 0.03000859 0.13967452\n",
      "  0.97853772 0.69401134 0.8092236  0.8592613 ]\n",
      " [0.51564586 0.40419614 0.65301737 0.25502205 0.50895137 0.06698587\n",
      "  0.93257446 0.02645036 0.7345679  0.61725511]\n",
      " [0.82204649 0.8868451  0.05484101 0.68999543 0.37579535 0.27840158\n",
      "  0.12494018 0.90348901 0.20888287 0.4773601 ]\n",
      " [0.46226986 0.53158154 0.21153212 0.73657675 0.04621454 0.20664649\n",
      "  0.23442637 0.33913982 0.09690871 0.23437353]\n",
      " [0.65328051 0.90656446 0.41639493 0.22596231 0.6881619  0.36490093\n",
      "  0.477406   0.26256906 0.5001681  0.6935453 ]\n",
      " [0.15279642 0.56192061 0.01952249 0.88607186 0.35264752 0.87784786\n",
      "  0.94842377 0.03707312 0.87024803 0.8767305 ]\n",
      " [0.71758587 0.67754338 0.35590747 0.15837374 0.23759978 0.69282985\n",
      "  0.6391063  0.56337448 0.79884779 0.61321003]\n",
      " [0.41882734 0.52209192 0.38810931 0.63308608 0.11887708 0.57172846\n",
      "  0.72202291 0.93924624 0.03145573 0.88128557]\n",
      " [0.31368865 0.75347129 0.96388578 0.4791062  0.69047326 0.70279748\n",
      "  0.24919199 0.98375339 0.04955491 0.55657312]]\n",
      "Minimum Value: 0.01952248925827693\n",
      "Maximum Value: 0.9837533895742089\n"
     ]
    }
   ],
   "source": [
    "random_array_10x10 = np.random.random((10, 10))\n",
    "\n",
    "# Find the minimum and maximum values in the array\n",
    "min_value = random_array_10x10.min()\n",
    "max_value = random_array_10x10.max()\n",
    "\n",
    "print(\"Random 10x10 Array:\")\n",
    "print(random_array_10x10)\n",
    "print(\"Minimum Value:\", min_value)\n",
    "print(\"Maximum Value:\", max_value)"
   ]
  },
  {
   "cell_type": "markdown",
   "id": "31fc9fe9-9ce0-481d-ac27-1657718502f2",
   "metadata": {},
   "source": [
    "6. Create a zero array of size 10 and replace 5th element with 1."
   ]
  },
  {
   "cell_type": "code",
   "execution_count": 47,
   "id": "cba4463c-0aa2-4cb5-9985-58ca6c694c17",
   "metadata": {},
   "outputs": [
    {
     "name": "stdout",
     "output_type": "stream",
     "text": [
      "[0. 0. 0. 0. 1. 0. 0. 0. 0. 0.]\n"
     ]
    }
   ],
   "source": [
    "# Create a zero array of size 10\n",
    "zero_array = np.zeros(10)\n",
    "\n",
    "# Replace the 5th element (index 4) with 1\n",
    "zero_array[4] = 1\n",
    "\n",
    "print(zero_array)"
   ]
  },
  {
   "cell_type": "markdown",
   "id": "4eaceeaf-b9a9-4944-bfd0-73d442048bf0",
   "metadata": {},
   "source": [
    "7. Reverse an array arr = [1,2,0,0,4,0]."
   ]
  },
  {
   "cell_type": "code",
   "execution_count": 48,
   "id": "8d0e08d8-84cd-479f-b61d-55d740ac64ee",
   "metadata": {},
   "outputs": [
    {
     "name": "stdout",
     "output_type": "stream",
     "text": [
      "[0 4 0 0 2 1]\n"
     ]
    }
   ],
   "source": [
    "arr = np.array([1, 2, 0, 0, 4, 0])\n",
    "\n",
    "# Reverse the array\n",
    "reversed_arr = arr[::-1]  # or np.flip(arr)\n",
    "\n",
    "print(reversed_arr)"
   ]
  },
  {
   "cell_type": "markdown",
   "id": "0ba8a0d3-9b48-4b17-b2a1-0432e40bc9f8",
   "metadata": {},
   "source": [
    "8. Create a 2d array with 1 on border and 0 inside."
   ]
  },
  {
   "cell_type": "code",
   "execution_count": 49,
   "id": "1d7c55f8-1d20-465a-a3a1-14e33919929a",
   "metadata": {},
   "outputs": [
    {
     "name": "stdout",
     "output_type": "stream",
     "text": [
      "[[1 1 1 1 1]\n",
      " [1 0 0 0 1]\n",
      " [1 0 0 0 1]\n",
      " [1 0 0 0 1]\n",
      " [1 1 1 1 1]]\n"
     ]
    }
   ],
   "source": [
    "rows, cols = 5, 5  # Example size (you can change it)\n",
    "\n",
    "# Create a 2D array filled with zeros\n",
    "array = np.zeros((rows, cols), dtype=int)\n",
    "\n",
    "# Set the border elements to 1\n",
    "array[0, :] = 1  # Top border\n",
    "array[-1, :] = 1  # Bottom border\n",
    "array[:, 0] = 1  # Left border\n",
    "array[:, -1] = 1  # Right border\n",
    "\n",
    "print(array)"
   ]
  },
  {
   "cell_type": "markdown",
   "id": "6f453e9f-50bf-45c1-aa15-a6363805eb42",
   "metadata": {},
   "source": [
    "9. Create a 8X8 matrix and fill it with a checkerboard pattern"
   ]
  },
  {
   "cell_type": "code",
   "execution_count": 50,
   "id": "fa698520-3a4e-44b9-acd8-5d61711fbf78",
   "metadata": {},
   "outputs": [
    {
     "name": "stdout",
     "output_type": "stream",
     "text": [
      "[[0 1 0 1 0 1 0 1]\n",
      " [1 0 1 0 1 0 1 0]\n",
      " [0 1 0 1 0 1 0 1]\n",
      " [1 0 1 0 1 0 1 0]\n",
      " [0 1 0 1 0 1 0 1]\n",
      " [1 0 1 0 1 0 1 0]\n",
      " [0 1 0 1 0 1 0 1]\n",
      " [1 0 1 0 1 0 1 0]]\n"
     ]
    }
   ],
   "source": [
    "\n",
    "# Create an 8x8 matrix of zeros\n",
    "checkerboard = np.zeros((8, 8), dtype=int)\n",
    "\n",
    "# Fill the checkerboard pattern\n",
    "checkerboard[1::2, ::2] = 1  # Odd rows, even columns\n",
    "checkerboard[::2, 1::2] = 1  # Even rows, odd columns\n",
    "\n",
    "print(checkerboard)"
   ]
  },
  {
   "cell_type": "markdown",
   "id": "6e890f91-af9a-4679-b195-6429b80b57bf",
   "metadata": {},
   "source": [
    "Problem - 3: Array Operations:\n",
    "For the following arrays:\n",
    "x = np.array([[1,2],[3,5]]) and y = np.array([[5,6],[7,8]]);\n",
    "v = np.array([9,10]) and w = np.array([11,12]);\n",
    "Complete all the task using numpy:\n",
    "1. Add the two array."
   ]
  },
  {
   "cell_type": "code",
   "execution_count": 51,
   "id": "da311013-a945-468a-8bf4-e8514380922b",
   "metadata": {},
   "outputs": [],
   "source": [
    "x = np.array([[1, 2], [3, 5]])\n",
    "y = np.array([[5, 6], [7, 8]])\n",
    "\n",
    "v = np.array([9, 10])\n",
    "w = np.array([11, 12])"
   ]
  },
  {
   "cell_type": "code",
   "execution_count": 52,
   "id": "ff0b266d-9361-40fe-8333-f5189f74c1b5",
   "metadata": {},
   "outputs": [
    {
     "name": "stdout",
     "output_type": "stream",
     "text": [
      "Sum of x and y:\n",
      " [[ 6  8]\n",
      " [10 13]]\n",
      "Sum of v and w: [20 22]\n"
     ]
    }
   ],
   "source": [
    "array_sum = np.add(x, y)  # or x + y\n",
    "\n",
    "# Add the two 1D arrays\n",
    "vector_sum = np.add(v, w)  # or v + w\n",
    "\n",
    "print(\"Sum of x and y:\\n\", array_sum)\n",
    "print(\"Sum of v and w:\", vector_sum)"
   ]
  },
  {
   "cell_type": "markdown",
   "id": "9dd1b992-65d3-428d-b8ca-8e34181aac52",
   "metadata": {},
   "source": [
    "2. Subtract the two array."
   ]
  },
  {
   "cell_type": "code",
   "execution_count": 53,
   "id": "46072d43-de55-4424-a973-34d1d92b2e7a",
   "metadata": {},
   "outputs": [
    {
     "name": "stdout",
     "output_type": "stream",
     "text": [
      "Difference of x and y:\n",
      " [[-4 -4]\n",
      " [-4 -3]]\n",
      "Difference of v and w: [-2 -2]\n"
     ]
    }
   ],
   "source": [
    "array_diff = np.subtract(x, y)  # or x - y\n",
    "\n",
    "# Subtract the two 1D arrays\n",
    "vector_diff = np.subtract(v, w)  # or v - w\n",
    "\n",
    "print(\"Difference of x and y:\\n\", array_diff)\n",
    "print(\"Difference of v and w:\", vector_diff)"
   ]
  },
  {
   "cell_type": "markdown",
   "id": "8fb23b9f-420c-44b2-847a-adabc8ec08a9",
   "metadata": {},
   "source": [
    "3. Multiply the array with any integers of your choice."
   ]
  },
  {
   "cell_type": "code",
   "execution_count": 54,
   "id": "d326b929-7342-41d9-988a-ff6459ea7307",
   "metadata": {},
   "outputs": [
    {
     "name": "stdout",
     "output_type": "stream",
     "text": [
      "x multiplied by 3 :\n",
      " [[ 3  6]\n",
      " [ 9 15]]\n",
      "y multiplied by 3 :\n",
      " [[15 18]\n",
      " [21 24]]\n",
      "v multiplied by 3 : [27 30]\n",
      "w multiplied by 3 : [33 36]\n"
     ]
    }
   ],
   "source": [
    "scalar = 3\n",
    "\n",
    "# Multiply arrays by the scalar\n",
    "x_multiplied = np.multiply(x, scalar)  # or x * scalar\n",
    "y_multiplied = np.multiply(y, scalar)  # or y * scalar\n",
    "v_multiplied = np.multiply(v, scalar)  # or v * scalar\n",
    "w_multiplied = np.multiply(w, scalar)  # or w * scalar\n",
    "\n",
    "print(\"x multiplied by\", scalar, \":\\n\", x_multiplied)\n",
    "print(\"y multiplied by\", scalar, \":\\n\", y_multiplied)\n",
    "print(\"v multiplied by\", scalar, \":\", v_multiplied)\n",
    "print(\"w multiplied by\", scalar, \":\", w_multiplied)"
   ]
  },
  {
   "cell_type": "markdown",
   "id": "8b3c1291-b72b-4dc3-8e19-7410910668ee",
   "metadata": {},
   "source": [
    "4. Find the square of each element of the array.\n"
   ]
  },
  {
   "cell_type": "code",
   "execution_count": 55,
   "id": "148610da-02d4-492a-9203-91953ccff981",
   "metadata": {},
   "outputs": [
    {
     "name": "stdout",
     "output_type": "stream",
     "text": [
      "Square of x:\n",
      " [[ 1  4]\n",
      " [ 9 25]]\n",
      "Square of y:\n",
      " [[25 36]\n",
      " [49 64]]\n",
      "Square of v: [ 81 100]\n",
      "Square of w: [121 144]\n"
     ]
    }
   ],
   "source": [
    "# Find the square of each element\n",
    "x_squared = np.square(x)  # or x ** 2\n",
    "y_squared = np.square(y)  # or y ** 2\n",
    "v_squared = np.square(v)  # or v ** 2\n",
    "w_squared = np.square(w)  # or w ** 2\n",
    "\n",
    "print(\"Square of x:\\n\", x_squared)\n",
    "print(\"Square of y:\\n\", y_squared)\n",
    "print(\"Square of v:\", v_squared)\n",
    "print(\"Square of w:\", w_squared)"
   ]
  },
  {
   "cell_type": "markdown",
   "id": "ed2ee27f-07a0-43e2-bbb5-78396231d94d",
   "metadata": {},
   "source": [
    "5. Find the dot product between: v(and)w ; x(and)v ; x(and)y.\n"
   ]
  },
  {
   "cell_type": "code",
   "execution_count": 56,
   "id": "2b594ed0-1be7-40f3-9422-09d832b6d62c",
   "metadata": {},
   "outputs": [
    {
     "name": "stdout",
     "output_type": "stream",
     "text": [
      "Dot product of v and w: 219\n",
      "Dot product of x and v:\n",
      " [29 77]\n",
      "Dot product of x and y:\n",
      " [[19 22]\n",
      " [50 58]]\n"
     ]
    }
   ],
   "source": [
    "dot_vw = np.dot(v, w)  # or v @ w\n",
    "\n",
    "# Dot product between x and v\n",
    "dot_xv = np.dot(x, v)  # or x @ v\n",
    "\n",
    "# Dot product between x and y\n",
    "dot_xy = np.dot(x, y)  # or x @ y\n",
    "\n",
    "print(\"Dot product of v and w:\", dot_vw)\n",
    "print(\"Dot product of x and v:\\n\", dot_xv)\n",
    "print(\"Dot product of x and y:\\n\", dot_xy)"
   ]
  },
  {
   "cell_type": "markdown",
   "id": "1fa272ce-359d-488e-a0ed-82830a6daac9",
   "metadata": {},
   "source": [
    "6. Concatenate x(and)y along row and Concatenate v(and)w along column.\n",
    "{Hint:try np.concatenate() or np.vstack() functions."
   ]
  },
  {
   "cell_type": "code",
   "execution_count": 77,
   "id": "7232d5ca-00c8-4ad2-8a06-7fd38c6ee99a",
   "metadata": {},
   "outputs": [
    {
     "name": "stdout",
     "output_type": "stream",
     "text": [
      "Concatenation of x and y along rows:\n",
      " [[1 2]\n",
      " [3 5]\n",
      " [5 6]\n",
      " [7 8]]\n",
      "Concatenation of v and w along columns:\n",
      " [[ 9 11]\n",
      " [10 12]]\n"
     ]
    }
   ],
   "source": [
    "concat_xy = np.concatenate((x, y), axis=0)  \n",
    "\n",
    "# Concatenate v and w along columns (reshape first to make them 2D)\n",
    "concat_vw = np.concatenate((v.reshape(-1, 1), w.reshape(-1, 1)), axis=1)  # or np.hstack((v.reshape(-1, 1), w.reshape(-1, 1)))\n",
    "\n",
    "print(\"Concatenation of x and y along rows:\\n\", concat_xy)\n",
    "print(\"Concatenation of v and w along columns:\\n\", concat_vw)\n"
   ]
  },
  {
   "cell_type": "markdown",
   "id": "9a2cec4b-d92b-4497-932e-2d2bf0fe9929",
   "metadata": {},
   "source": [
    "7. Concatenate x(and)v; if you get an error, observe and explain why did you get the error?"
   ]
  },
  {
   "cell_type": "code",
   "execution_count": 58,
   "id": "c2f3e701-3f2d-451e-9d02-b05cc5d77d5b",
   "metadata": {},
   "outputs": [
    {
     "name": "stdout",
     "output_type": "stream",
     "text": [
      "Error while concatenating x and v along rows: all the input arrays must have same number of dimensions, but the array at index 0 has 2 dimension(s) and the array at index 1 has 1 dimension(s)\n",
      "Error while concatenating x and v along columns: all the input arrays must have same number of dimensions, but the array at index 0 has 2 dimension(s) and the array at index 1 has 1 dimension(s)\n"
     ]
    }
   ],
   "source": [
    "try:\n",
    "    result = np.concatenate((x, v), axis=0)\n",
    "    print(\"Concatenation along rows:\", result)\n",
    "except Exception as e:\n",
    "    print(\"Error while concatenating x and v along rows:\", e)\n",
    "\n",
    "# Attempt to concatenate x and v along columns (axis=1)\n",
    "try:\n",
    "    result = np.concatenate((x, v), axis=1)\n",
    "    print(\"Concatenation along columns:\", result)\n",
    "except Exception as e:\n",
    "    print(\"Error while concatenating x and v along columns:\", e)"
   ]
  },
  {
   "cell_type": "markdown",
   "id": "fb582d94-8c3d-40d7-ac19-c60ab4001c8f",
   "metadata": {},
   "source": [
    "Problem - 4: Matrix Operations:\n",
    "• For the following arrays:\n",
    "A = np.array([[3,4],[7,8]]) and B = np.array([[5,3],[2,1]]);\n",
    "Prove following with Numpy:\n",
    "1. Prove A.A−1 = I"
   ]
  },
  {
   "cell_type": "code",
   "execution_count": 59,
   "id": "39ae7b5a-e97c-4220-9c65-3b3badad992e",
   "metadata": {},
   "outputs": [
    {
     "name": "stdout",
     "output_type": "stream",
     "text": [
      "A * A^-1 = \n",
      " [[1.00000000e+00 0.00000000e+00]\n",
      " [1.77635684e-15 1.00000000e+00]]\n",
      "Identity matrix I = \n",
      " [[1. 0.]\n",
      " [0. 1.]]\n",
      "The result is the identity matrix, so A * A^-1 = I\n"
     ]
    }
   ],
   "source": [
    "\n",
    "# Define the matrix A\n",
    "A = np.array([[3, 4], [7, 8]])\n",
    "\n",
    "# Calculate the inverse of A\n",
    "A_inv = np.linalg.inv(A)\n",
    "\n",
    "# Multiply A by its inverse to get the identity matrix\n",
    "result = np.dot(A, A_inv)\n",
    "\n",
    "# Print the result\n",
    "print(\"A * A^-1 = \\n\", result)\n",
    "\n",
    "# Verify that the result is the identity matrix\n",
    "I = np.eye(2)  # Create a 2x2 identity matrix\n",
    "print(\"Identity matrix I = \\n\", I)\n",
    "\n",
    "# Check if the result is close to the identity matrix\n",
    "if np.allclose(result, I):\n",
    "    print(\"The result is the identity matrix, so A * A^-1 = I\")\n",
    "else:\n",
    "    print(\"The result is not the identity matrix\")\n"
   ]
  },
  {
   "cell_type": "markdown",
   "id": "a478d60a-d3e2-444e-99e7-1c922ad4e75c",
   "metadata": {},
   "source": [
    "2. Prove AB ̸= BA."
   ]
  },
  {
   "cell_type": "code",
   "execution_count": 60,
   "id": "b49f641b-ea6a-47fa-a431-cc2cf6ef89c0",
   "metadata": {},
   "outputs": [
    {
     "name": "stdout",
     "output_type": "stream",
     "text": [
      "AB = \n",
      " [[23 13]\n",
      " [51 29]]\n",
      "BA = \n",
      " [[36 44]\n",
      " [13 16]]\n",
      "AB != BA\n"
     ]
    }
   ],
   "source": [
    "A = np.array([[3, 4], [7, 8]])\n",
    "B = np.array([[5, 3], [2, 1]])\n",
    "\n",
    "# Compute AB and BA\n",
    "AB = np.dot(A, B)\n",
    "BA = np.dot(B, A)\n",
    "\n",
    "# Print the results\n",
    "print(\"AB = \\n\", AB)\n",
    "print(\"BA = \\n\", BA)\n",
    "\n",
    "# Compare AB and BA\n",
    "if np.array_equal(AB, BA):\n",
    "    print(\"AB = BA\")\n",
    "else:\n",
    "    print(\"AB != BA\")"
   ]
  },
  {
   "cell_type": "markdown",
   "id": "86976e01-923a-4287-89f3-a01bbf61e9e6",
   "metadata": {},
   "source": [
    "3. Prove (AB)^T = B^TA^T\n"
   ]
  },
  {
   "cell_type": "code",
   "execution_count": 61,
   "id": "9d3393b0-cedd-43d6-a40c-c881359b145c",
   "metadata": {},
   "outputs": [
    {
     "name": "stdout",
     "output_type": "stream",
     "text": [
      "(AB)^T = \n",
      " [[23 51]\n",
      " [13 29]]\n",
      "B^T A^T = \n",
      " [[23 51]\n",
      " [13 29]]\n",
      "(AB)^T = B^T A^T\n"
     ]
    }
   ],
   "source": [
    "AB_transpose = np.transpose(np.dot(A, B))\n",
    "\n",
    "# Compute the product of the transposes B^T A^T\n",
    "B_transpose_A_transpose = np.dot(np.transpose(B), np.transpose(A))\n",
    "\n",
    "# Print both results\n",
    "print(\"(AB)^T = \\n\", AB_transpose)\n",
    "print(\"B^T A^T = \\n\", B_transpose_A_transpose)\n",
    "\n",
    "# Compare (AB)^T and B^T A^T\n",
    "if np.array_equal(AB_transpose, B_transpose_A_transpose):\n",
    "    print(\"(AB)^T = B^T A^T\")\n",
    "else:\n",
    "    print(\"(AB)^T != B^T A^T\")"
   ]
  },
  {
   "cell_type": "markdown",
   "id": "346723a0-ae26-4c9f-adef-dca7880cc396",
   "metadata": {},
   "source": [
    " Solve the following system of Linear equation using Inverse Methods.\n",
    "2x − 3y + z = −1\n",
    "x − y + 2z = −3\n",
    "3x + y − z = 9\n",
    "{Hint: First use Numpy array to represent the equation in Matrix form. Then Solve for: AX = B}"
   ]
  },
  {
   "cell_type": "code",
   "execution_count": 62,
   "id": "676607df-faa0-4bee-906d-e769b798a0a6",
   "metadata": {},
   "outputs": [
    {
     "name": "stdout",
     "output_type": "stream",
     "text": [
      "The solution is:\n",
      "x = 2.0\n",
      "y = 1.0\n",
      "z = -2.0\n"
     ]
    }
   ],
   "source": [
    "import numpy as np\n",
    "\n",
    "# Coefficient matrix A\n",
    "A = np.array([[2, -3, 1],\n",
    "              [1, -1, 2],\n",
    "              [3, 1, -1]])\n",
    "\n",
    "# Constants matrix B\n",
    "B = np.array([[-1], [-3], [9]])\n",
    "\n",
    "# Calculate the inverse of matrix A\n",
    "A_inv = np.linalg.inv(A)\n",
    "\n",
    "# Solve for X (which contains x, y, z)\n",
    "X = np.dot(A_inv, B)\n",
    "\n",
    "# Print the solution\n",
    "print(\"The solution is:\")\n",
    "print(\"x =\", X[0][0])\n",
    "print(\"y =\", X[1][0])\n",
    "print(\"z =\", X[2][0])\n"
   ]
  },
  {
   "cell_type": "markdown",
   "id": "feae1a87-4c12-48df-987f-aaff7d82103c",
   "metadata": {},
   "source": [
    "Now: solve the above equation using np.linalg.inv function.{Explore more about ”linalg” function of Numpy}"
   ]
  },
  {
   "cell_type": "code",
   "execution_count": 63,
   "id": "5b1e9e7e-deb3-4602-8a75-fc24723bcfbf",
   "metadata": {},
   "outputs": [
    {
     "name": "stdout",
     "output_type": "stream",
     "text": [
      "The solution is:\n",
      "x = 2.0\n",
      "y = 1.0\n",
      "z = -2.0\n"
     ]
    }
   ],
   "source": [
    "# Coefficient matrix A\n",
    "A = np.array([[2, -3, 1],\n",
    "              [1, -1, 2],\n",
    "              [3, 1, -1]])\n",
    "\n",
    "# Constants matrix B\n",
    "B = np.array([[-1], [-3], [9]])\n",
    "\n",
    "# Calculate the inverse of matrix A using np.linalg.inv\n",
    "A_inv = np.linalg.inv(A)\n",
    "\n",
    "# Solve for X (which contains x, y, z) using matrix multiplication\n",
    "X = np.dot(A_inv, B)\n",
    "\n",
    "# Print the solution\n",
    "print(\"The solution is:\")\n",
    "print(\"x =\", X[0][0])\n",
    "print(\"y =\", X[1][0])\n",
    "print(\"z =\", X[2][0])"
   ]
  },
  {
   "cell_type": "markdown",
   "id": "a82b3092-84b2-4f62-b67c-6d2bd6734fd6",
   "metadata": {},
   "source": [
    "10.2 Experiment: How Fast is Numpy?\n",
    "1. Element-wise Addition"
   ]
  },
  {
   "cell_type": "code",
   "execution_count": 64,
   "id": "31399fd3-137b-40ce-ba25-1e1acc066852",
   "metadata": {},
   "outputs": [
    {
     "name": "stdout",
     "output_type": "stream",
     "text": [
      "Time taken for element-wise addition using Python lists: 0.273203 seconds\n"
     ]
    }
   ],
   "source": [
    "import time\n",
    "import random\n",
    "\n",
    "# Generate two lists of size 1,000,000 with random values\n",
    "size = 1_000_000\n",
    "list1 = [random.randint(1, 100) for _ in range(size)]\n",
    "list2 = [random.randint(1, 100) for _ in range(size)]\n",
    "\n",
    "# Measure time taken for element-wise addition using list comprehension\n",
    "start_time = time.time()\n",
    "result = [list1[i] + list2[i] for i in range(size)]\n",
    "end_time = time.time()\n",
    "\n",
    "# Print time taken\n",
    "print(f\"Time taken for element-wise addition using Python lists: {end_time - start_time:.6f} seconds\")\n"
   ]
  },
  {
   "cell_type": "code",
   "execution_count": 65,
   "id": "2b0a82f2-552f-45f6-9b21-1457eeb82482",
   "metadata": {},
   "outputs": [
    {
     "name": "stdout",
     "output_type": "stream",
     "text": [
      "Time taken for element-wise addition using NumPy: 0.004132 seconds\n"
     ]
    }
   ],
   "source": [
    "import numpy as np\n",
    "import time\n",
    "\n",
    "# Generate two NumPy arrays of size 1,000,000 with random values\n",
    "size = 1_000_000\n",
    "array1 = np.random.randint(1, 100, size)\n",
    "array2 = np.random.randint(1, 100, size)\n",
    "\n",
    "# Measure time taken for element-wise addition using NumPy\n",
    "start_time = time.time()\n",
    "result = array1 + array2  # Vectorized addition\n",
    "end_time = time.time()\n",
    "\n",
    "# Print time taken\n",
    "print(f\"Time taken for element-wise addition using NumPy: {end_time - start_time:.6f} seconds\")\n"
   ]
  },
  {
   "cell_type": "markdown",
   "id": "13d922a2-7ee8-4a38-a444-42cd9c54cf5f",
   "metadata": {},
   "source": [
    "2. Element-wise Multiplication"
   ]
  },
  {
   "cell_type": "code",
   "execution_count": 66,
   "id": "6ec41162-e9ce-4626-851d-88977439c94b",
   "metadata": {},
   "outputs": [
    {
     "name": "stdout",
     "output_type": "stream",
     "text": [
      "Time taken for element-wise multiplication using Python lists: 0.292535 seconds\n"
     ]
    }
   ],
   "source": [
    "size = 1_000_000\n",
    "list1 = [random.randint(1, 100) for _ in range(size)]\n",
    "list2 = [random.randint(1, 100) for _ in range(size)]\n",
    "\n",
    "# Measure time taken for element-wise multiplication using list comprehension\n",
    "start_time = time.time()\n",
    "result = [list1[i] * list2[i] for i in range(size)]\n",
    "end_time = time.time()\n",
    "\n",
    "# Print time taken\n",
    "print(f\"Time taken for element-wise multiplication using Python lists: {end_time - start_time:.6f} seconds\")"
   ]
  },
  {
   "cell_type": "code",
   "execution_count": 67,
   "id": "7263d4b4-f6aa-4e33-8785-7b98945c5fcd",
   "metadata": {},
   "outputs": [
    {
     "name": "stdout",
     "output_type": "stream",
     "text": [
      "Time taken for element-wise multiplication using NumPy: 0.028205 seconds\n"
     ]
    }
   ],
   "source": [
    "size = 1_000_000\n",
    "array1 = np.random.randint(1, 100, size)\n",
    "array2 = np.random.randint(1, 100, size)\n",
    "\n",
    "# Measure time taken for element-wise multiplication using NumPy\n",
    "start_time = time.time()\n",
    "result = array1 * array2  # Vectorized multiplication\n",
    "end_time = time.time()\n",
    "\n",
    "# Print time taken\n",
    "print(f\"Time taken for element-wise multiplication using NumPy: {end_time - start_time:.6f} seconds\")"
   ]
  },
  {
   "cell_type": "markdown",
   "id": "507cdb23-950d-4c78-8a04-fc81ff2886a8",
   "metadata": {},
   "source": [
    "3. Dot Product"
   ]
  },
  {
   "cell_type": "code",
   "execution_count": 68,
   "id": "abe9bd6b-f1f1-4fd1-9853-aa9d8911909a",
   "metadata": {},
   "outputs": [
    {
     "name": "stdout",
     "output_type": "stream",
     "text": [
      "Dot product using Python lists: 2549327460\n",
      "Time taken using Python lists: 0.266914 seconds\n"
     ]
    }
   ],
   "source": [
    "# Generate two lists of size 1,000,000 with random values\n",
    "size = 1_000_000\n",
    "list1 = [random.randint(1, 100) for _ in range(size)]\n",
    "list2 = [random.randint(1, 100) for _ in range(size)]\n",
    "\n",
    "# Measure time taken for dot product using Python lists\n",
    "start_time = time.time()\n",
    "dot_product = sum(list1[i] * list2[i] for i in range(size))  # Manual dot product\n",
    "end_time = time.time()\n",
    "\n",
    "# Print time taken\n",
    "print(f\"Dot product using Python lists: {dot_product}\")\n",
    "print(f\"Time taken using Python lists: {end_time - start_time:.6f} seconds\")"
   ]
  },
  {
   "cell_type": "code",
   "execution_count": 69,
   "id": "2a798334-7ee1-4cf0-9ce6-3ed961bfb529",
   "metadata": {},
   "outputs": [
    {
     "name": "stdout",
     "output_type": "stream",
     "text": [
      "Dot product using NumPy: -1792557913\n",
      "Time taken using NumPy: 0.000958 seconds\n"
     ]
    }
   ],
   "source": [
    "size = 1_000_000\n",
    "array1 = np.random.randint(1, 100, size)\n",
    "array2 = np.random.randint(1, 100, size)\n",
    "\n",
    "# Measure time taken for dot product using NumPy\n",
    "start_time = time.time()\n",
    "dot_product = np.dot(array1, array2)  # Optimized NumPy dot product\n",
    "end_time = time.time()\n",
    "\n",
    "# Print time taken\n",
    "print(f\"Dot product using NumPy: {dot_product}\")\n",
    "print(f\"Time taken using NumPy: {end_time - start_time:.6f} seconds\")"
   ]
  },
  {
   "cell_type": "markdown",
   "id": "93d08d8a-f4d9-4be8-81ed-75bb3d34c942",
   "metadata": {},
   "source": [
    "4. Matrix Multiplication"
   ]
  },
  {
   "cell_type": "code",
   "execution_count": 70,
   "id": "3b46722e-470f-4f61-9ecb-0b4ad5b8a70a",
   "metadata": {},
   "outputs": [
    {
     "name": "stdout",
     "output_type": "stream",
     "text": [
      "Time taken for matrix multiplication using NumPy: 2.681598 seconds\n"
     ]
    }
   ],
   "source": [
    "size = 1000\n",
    "matrix1 = np.random.randint(1, 10, (size, size))\n",
    "matrix2 = np.random.randint(1, 10, (size, size))\n",
    "\n",
    "# Measure time taken for matrix multiplication using NumPy\n",
    "start_time = time.time()\n",
    "result = np.dot(matrix1, matrix2)  # Optimized NumPy matrix multiplication\n",
    "end_time = time.time()\n",
    "\n",
    "# Print time taken\n",
    "print(f\"Time taken for matrix multiplication using NumPy: {end_time - start_time:.6f} seconds\")"
   ]
  },
  {
   "cell_type": "code",
   "execution_count": 71,
   "id": "eb927c13-19d6-4c08-a2ae-767790dfa4d8",
   "metadata": {},
   "outputs": [
    {
     "name": "stdout",
     "output_type": "stream",
     "text": [
      "Time taken for matrix multiplication using Python lists: 252.818624 seconds\n"
     ]
    }
   ],
   "source": [
    "import time\n",
    "import random\n",
    "\n",
    "# Function to perform matrix multiplication for Python lists\n",
    "def matrix_multiply_python(matrix1, matrix2):\n",
    "    result = []\n",
    "    for i in range(len(matrix1)):  # Iterate over rows of matrix1\n",
    "        row = []\n",
    "        for j in range(len(matrix2[0])):  # Iterate over columns of matrix2\n",
    "            value = sum(matrix1[i][k] * matrix2[k][j] for k in range(len(matrix2)))\n",
    "            row.append(value)\n",
    "        result.append(row)\n",
    "    return result\n",
    "\n",
    "# Generate two matrices of size 1000x1000 with random values\n",
    "size = 1000\n",
    "matrix1 = [[random.randint(1, 10) for _ in range(size)] for _ in range(size)]\n",
    "matrix2 = [[random.randint(1, 10) for _ in range(size)] for _ in range(size)]\n",
    "\n",
    "# Measure time taken for matrix multiplication using Python lists\n",
    "start_time = time.time()\n",
    "result = matrix_multiply_python(matrix1, matrix2)\n",
    "end_time = time.time()\n",
    "\n",
    "# Print time taken\n",
    "print(f\"Time taken for matrix multiplication using Python lists: {end_time - start_time:.6f} seconds\")\n"
   ]
  }
 ],
 "metadata": {
  "kernelspec": {
   "display_name": "Python 3 (ipykernel)",
   "language": "python",
   "name": "python3"
  },
  "language_info": {
   "codemirror_mode": {
    "name": "ipython",
    "version": 3
   },
   "file_extension": ".py",
   "mimetype": "text/x-python",
   "name": "python",
   "nbconvert_exporter": "python",
   "pygments_lexer": "ipython3",
   "version": "3.13.2"
  }
 },
 "nbformat": 4,
 "nbformat_minor": 5
}
